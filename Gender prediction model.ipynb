{
 "cells": [
  {
   "cell_type": "code",
   "execution_count": 1,
   "id": "3e5ffc04-23b2-44bf-9fb2-8c01b481c47c",
   "metadata": {},
   "outputs": [
    {
     "ename": "ModuleNotFoundError",
     "evalue": "No module named 'tensorflow'",
     "output_type": "error",
     "traceback": [
      "\u001b[1;31m---------------------------------------------------------------------------\u001b[0m",
      "\u001b[1;31mModuleNotFoundError\u001b[0m                       Traceback (most recent call last)",
      "Cell \u001b[1;32mIn[1], line 6\u001b[0m\n\u001b[0;32m      4\u001b[0m \u001b[38;5;28;01mfrom\u001b[39;00m \u001b[38;5;21;01msklearn\u001b[39;00m\u001b[38;5;21;01m.\u001b[39;00m\u001b[38;5;21;01mpreprocessing\u001b[39;00m \u001b[38;5;28;01mimport\u001b[39;00m LabelEncoder\n\u001b[0;32m      5\u001b[0m \u001b[38;5;28;01mfrom\u001b[39;00m \u001b[38;5;21;01msklearn\u001b[39;00m\u001b[38;5;21;01m.\u001b[39;00m\u001b[38;5;21;01mfeature_extraction\u001b[39;00m\u001b[38;5;21;01m.\u001b[39;00m\u001b[38;5;21;01mtext\u001b[39;00m \u001b[38;5;28;01mimport\u001b[39;00m CountVectorizer\n\u001b[1;32m----> 6\u001b[0m \u001b[38;5;28;01mfrom\u001b[39;00m \u001b[38;5;21;01mtensorflow\u001b[39;00m\u001b[38;5;21;01m.\u001b[39;00m\u001b[38;5;21;01mkeras\u001b[39;00m\u001b[38;5;21;01m.\u001b[39;00m\u001b[38;5;21;01mpreprocessing\u001b[39;00m\u001b[38;5;21;01m.\u001b[39;00m\u001b[38;5;21;01mtext\u001b[39;00m \u001b[38;5;28;01mimport\u001b[39;00m Tokenizer\n\u001b[0;32m      7\u001b[0m \u001b[38;5;28;01mfrom\u001b[39;00m \u001b[38;5;21;01mkeras\u001b[39;00m\u001b[38;5;21;01m.\u001b[39;00m\u001b[38;5;21;01mpreprocessing\u001b[39;00m\u001b[38;5;21;01m.\u001b[39;00m\u001b[38;5;21;01msequence\u001b[39;00m \u001b[38;5;28;01mimport\u001b[39;00m pad_sequences\n\u001b[0;32m      8\u001b[0m \u001b[38;5;28;01mfrom\u001b[39;00m \u001b[38;5;21;01mkeras\u001b[39;00m\u001b[38;5;21;01m.\u001b[39;00m\u001b[38;5;21;01mmodels\u001b[39;00m \u001b[38;5;28;01mimport\u001b[39;00m Sequential, load_model  \u001b[38;5;66;03m# Import load_model directly from keras.models\u001b[39;00m\n",
      "\u001b[1;31mModuleNotFoundError\u001b[0m: No module named 'tensorflow'"
     ]
    }
   ],
   "source": [
    "import numpy as np\n",
    "import pandas as pd\n",
    "from sklearn.model_selection import train_test_split\n",
    "from sklearn.preprocessing import LabelEncoder\n",
    "from sklearn.feature_extraction.text import CountVectorizer\n",
    "from tensorflow.keras.preprocessing.text import Tokenizer\n",
    "from keras.preprocessing.sequence import pad_sequences\n",
    "from keras.models import Sequential, load_model  # Import load_model directly from keras.models\n",
    "from keras.layers import Dense, LSTM, Embedding, Dropout\n",
    "from keras.utils import to_categorical\n",
    "import pickle\n",
    "import sklearn.metrics as m"
   ]
  },
  {
   "cell_type": "code",
   "execution_count": null,
   "id": "3080fd94-d4ea-4495-9512-4f4d56e4ca9c",
   "metadata": {},
   "outputs": [],
   "source": [
    "# Load dataset\n",
    "dataset = pd.read_csv(r\"C:\\Users\\gowtham.veepujerla\\Downloads\\Text to audio\\data\\combined_dataset.csv\")"
   ]
  },
  {
   "cell_type": "code",
   "execution_count": null,
   "id": "66cdb719-2adf-4dd8-a72c-435c715ce291",
   "metadata": {},
   "outputs": [],
   "source": [
    "# Remove duplicate and missing values\n",
    "dataset.drop_duplicates('name', inplace=True)\n",
    "dataset.dropna(inplace=True)"
   ]
  },
  {
   "cell_type": "code",
   "execution_count": null,
   "id": "f27ada4b-3caa-4038-9b4d-73e666876d2d",
   "metadata": {},
   "outputs": [],
   "source": [
    "dataset.head()"
   ]
  },
  {
   "cell_type": "code",
   "execution_count": null,
   "id": "e2631a5c-3738-4ba9-a3c0-b31d09a5e375",
   "metadata": {},
   "outputs": [],
   "source": [
    "import plotly.express as px\n",
    "gender = dataset.gender.value_counts()\n",
    "fig = px.pie(dataset, values=gender.values, names=gender.index, title='Distribution of Gender')\n",
    "fig.show()"
   ]
  },
  {
   "cell_type": "code",
   "execution_count": null,
   "id": "b50ff113-9168-4e38-baf0-44e30e6ba112",
   "metadata": {},
   "outputs": [],
   "source": [
    "# Encode labels\n",
    "le = LabelEncoder()\n",
    "labels = le.fit_transform(dataset['gender'])"
   ]
  },
  {
   "cell_type": "code",
   "execution_count": null,
   "id": "ab315244-22d6-4545-bf2e-b83bfac17994",
   "metadata": {},
   "outputs": [],
   "source": [
    "# Convert names to sequences of integers\n",
    "tokenizer = Tokenizer(char_level=True)\n",
    "tokenizer.fit_on_texts(dataset['name'])\n",
    "sequences = tokenizer.texts_to_sequences(dataset['name'])\n",
    "padded_sequences = pad_sequences(sequences, maxlen=15, padding='post')"
   ]
  },
  {
   "cell_type": "code",
   "execution_count": null,
   "id": "6e133b8b-8b6b-40b5-bb4e-2d9da283dedf",
   "metadata": {},
   "outputs": [],
   "source": [
    "# Split data into training and testing sets\n",
    "feature_train, feature_test, label_train, label_test = train_test_split(\n",
    "    padded_sequences, labels, test_size=0.2, random_state=42)"
   ]
  },
  {
   "cell_type": "code",
   "execution_count": null,
   "id": "440dee31-184a-4f70-a119-6cb8fe8c6d1c",
   "metadata": {},
   "outputs": [],
   "source": [
    "# Define the vocabulary size\n",
    "vocab_size = len(tokenizer.word_index) + 1  # Adding 1 because of reserved 0 index\n",
    "\n",
    "# Define the maximum sequence length\n",
    "max_sequence_length = padded_sequences.shape[1]  # Length of the padded sequences\n"
   ]
  },
  {
   "cell_type": "code",
   "execution_count": null,
   "id": "15d54dc1-e272-4136-a8a8-ccd4d04639dd",
   "metadata": {},
   "outputs": [],
   "source": [
    "# Build and train the model\n",
    "model = Sequential()\n",
    "model.add(Embedding(input_dim=vocab_size, output_dim=64))\n",
    "model.add(LSTM(128, return_sequences=True))\n",
    "model.add(LSTM(64))\n",
    "model.add(Dropout(0.5))\n",
    "model.add(Dense(2, activation='sigmoid'))\n",
    "# Build the model by passing some input data\n",
    "model.build(input_shape=(None, 15)) \n",
    "model.summary()"
   ]
  },
  {
   "cell_type": "code",
   "execution_count": null,
   "id": "023e6537-61d0-4cb1-aeaf-aaea982f0cbd",
   "metadata": {},
   "outputs": [],
   "source": [
    "model.compile(loss='binary_crossentropy', optimizer='adam', metrics=['accuracy'])\n",
    "model.fit(feature_train, to_categorical(label_train), epochs=50, batch_size=1000, validation_data=(feature_test, to_categorical(label_test)))"
   ]
  },
  {
   "cell_type": "code",
   "execution_count": null,
   "id": "b0a47226-1618-4d8f-a98d-7078cad7897e",
   "metadata": {},
   "outputs": [],
   "source": [
    "# Save the model and tokenizer\n",
    "model.save('model.h5')\n",
    "with open('tokenizer.pkl', 'wb') as handle:\n",
    "    pickle.dump(tokenizer, handle, protocol=pickle.HIGHEST_PROTOCOL)"
   ]
  },
  {
   "cell_type": "code",
   "execution_count": null,
   "id": "002914ea-5117-4a7f-a6f7-df1ee8fa9709",
   "metadata": {},
   "outputs": [],
   "source": [
    "# Load the model and tokenizer\n",
    "model = load_model('model.h5')\n",
    "with open('tokenizer.pkl', 'rb') as handle:\n",
    "    tokenizer = pickle.load(handle)"
   ]
  },
  {
   "cell_type": "code",
   "execution_count": null,
   "id": "46acd9fd-48af-4699-8870-4f5969167ebf",
   "metadata": {},
   "outputs": [],
   "source": [
    "# Define input and prediction functions\n",
    "def preprocess_input(name):\n",
    "    sequence = tokenizer.texts_to_sequences([name])\n",
    "    padded_sequence = pad_sequences(sequence, maxlen=15, padding='post')\n",
    "    return padded_sequence\n",
    "\n",
    "import re\n",
    "\n",
    "def predict_gender(name):\n",
    "    # Check if the name contains only alphabetic characters\n",
    "    if not name.isalpha():\n",
    "        return 'Enter a proper name'\n",
    "    \n",
    "    # Check if the name consists of common non-human elements\n",
    "    non_human_patterns = [\n",
    "        r'^\\d+$',  # Only digits\n",
    "        r'^[^\\w\\s]+$',  # Only symbols\n",
    "        r'^(?:abc|def|ghi|jkl|mno|pqr|stu|vwx|yz)+$',  # Sequential alphabets\n",
    "        r'(mon|tue|wed|thu|fri|sat|sun)',  # Days of the week\n",
    "        r'(and|but|or|for|nor|so|yet)',  # Conjunctions\n",
    "        r'(at|by|for|in|of|on|to|with)',  # Prepositions\n",
    "        r'(am|is|are|was|were|be|being|been)',  # Verbs\n",
    "        r'(very|quite|rather|pretty|fairly|somewhat)',  # Adverbs\n",
    "    ]\n",
    "    if any(re.match(pattern, name.lower()) for pattern in non_human_patterns):\n",
    "        return 'Enter a proper name'\n",
    "\n",
    "    # Process input if it's a proper human name\n",
    "    processed_input = preprocess_input(name)\n",
    "    prediction = model.predict(processed_input)\n",
    "    predicted_label = np.argmax(prediction)\n",
    "    if predicted_label == 0:\n",
    "        return 'Female'\n",
    "    else:\n",
    "        return 'Male' \n",
    "\n"
   ]
  },
  {
   "cell_type": "code",
   "execution_count": null,
   "id": "f67760ee-2adc-4699-a4da-023b21720ca1",
   "metadata": {},
   "outputs": [],
   "source": [
    "# Evaluate the model\n",
    "label_pred = np.argmax(model.predict(feature_test), axis=1)\n",
    "accuracy = m.accuracy_score(label_test, label_pred)\n",
    "classification_report = m.classification_report(label_test, label_pred)\n",
    "confusion_matrix = m.confusion_matrix(label_test, label_pred)\n",
    "\n",
    "print(f\"Model Accuracy: {accuracy}\")\n",
    "print(\"Classification Report:\")\n",
    "print(classification_report)\n",
    "print(\"Confusion Matrix:\")\n",
    "print(confusion_matrix)"
   ]
  },
  {
   "cell_type": "code",
   "execution_count": null,
   "id": "8e6c3f74-3d37-44fb-8a08-d2f932ca07ff",
   "metadata": {},
   "outputs": [],
   "source": [
    "# Function to predict gender for multiple user inputs\n",
    "def predict_multiple_names():\n",
    "    while True:\n",
    "        name = input(\"Enter a name (type 'exit' to stop): \")\n",
    "        if name.lower() == 'exit':\n",
    "            break\n",
    "        print(f\"The predicted gender for the name '{name}' is: {predict_gender(name)}\")\n",
    "\n",
    "# Predict gender for multiple inputs\n",
    "predict_multiple_names()"
   ]
  },
  {
   "cell_type": "code",
   "execution_count": null,
   "id": "27b49ca6-b27b-4c3c-a93b-fe976af18cc7",
   "metadata": {},
   "outputs": [],
   "source": []
  }
 ],
 "metadata": {
  "kernelspec": {
   "display_name": "Python 3 (ipykernel)",
   "language": "python",
   "name": "python3"
  },
  "language_info": {
   "codemirror_mode": {
    "name": "ipython",
    "version": 3
   },
   "file_extension": ".py",
   "mimetype": "text/x-python",
   "name": "python",
   "nbconvert_exporter": "python",
   "pygments_lexer": "ipython3",
   "version": "3.11.7"
  }
 },
 "nbformat": 4,
 "nbformat_minor": 5
}
